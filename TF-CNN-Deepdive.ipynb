{
 "cells": [
  {
   "cell_type": "code",
   "execution_count": 1,
   "id": "interesting-produce",
   "metadata": {},
   "outputs": [],
   "source": [
    "import pandas as pd\n",
    "import matplotlib.pyplot as plt\n",
    "import tensorflow as tf\n",
    "import numpy as np"
   ]
  },
  {
   "cell_type": "code",
   "execution_count": 2,
   "id": "norwegian-profile",
   "metadata": {},
   "outputs": [],
   "source": [
    "from PIL import Image"
   ]
  },
  {
   "cell_type": "code",
   "execution_count": 2,
   "id": "radical-gravity",
   "metadata": {},
   "outputs": [],
   "source": [
    "cifar10 = tf.keras.datasets.cifar10 "
   ]
  },
  {
   "cell_type": "code",
   "execution_count": 3,
   "id": "careful-guinea",
   "metadata": {},
   "outputs": [],
   "source": [
    "(x_train, y_train), (x_test, y_test) = cifar10.load_data()"
   ]
  },
  {
   "cell_type": "code",
   "execution_count": 49,
   "id": "billion-parallel",
   "metadata": {},
   "outputs": [
    {
     "data": {
      "text/plain": [
       "(50000, 1)"
      ]
     },
     "execution_count": 49,
     "metadata": {},
     "output_type": "execute_result"
    }
   ],
   "source": [
    "y_train.shape "
   ]
  },
  {
   "cell_type": "code",
   "execution_count": 52,
   "id": "disciplinary-rings",
   "metadata": {},
   "outputs": [
    {
     "data": {
      "text/plain": [
       "9"
      ]
     },
     "execution_count": 52,
     "metadata": {},
     "output_type": "execute_result"
    }
   ],
   "source": [
    "y_train.max()"
   ]
  },
  {
   "cell_type": "code",
   "execution_count": 22,
   "id": "pacific-combat",
   "metadata": {},
   "outputs": [
    {
     "data": {
      "text/plain": [
       "(32, 32, 3)"
      ]
     },
     "execution_count": 22,
     "metadata": {},
     "output_type": "execute_result"
    }
   ],
   "source": [
    "x_train[5].shape"
   ]
  },
  {
   "cell_type": "code",
   "execution_count": 27,
   "id": "humanitarian-baker",
   "metadata": {},
   "outputs": [
    {
     "data": {
      "text/plain": [
       "<matplotlib.image.AxesImage at 0x7fd4cfc6bd30>"
      ]
     },
     "execution_count": 27,
     "metadata": {},
     "output_type": "execute_result"
    },
    {
     "data": {
      "image/png": "[encoded data removed]",
      "text/plain": [
       "<Figure size 432x288 with 1 Axes>"
      ]
     },
     "metadata": {
      "needs_background": "light"
     },
     "output_type": "display_data"
    }
   ],
   "source": [
    "plt.imshow(x_train[4][:,:,2], cmap=\"Blues\") "
   ]
  },
  {
   "cell_type": "code",
   "execution_count": 33,
   "id": "public-utility",
   "metadata": {},
   "outputs": [
    {
     "data": {
      "text/plain": [
       "<matplotlib.image.AxesImage at 0x7fd4bd6394c0>"
      ]
     },
     "execution_count": 33,
     "metadata": {},
     "output_type": "execute_result"
    },
    {
     "data": {
      "image/png": "[encoded data removed]",
      "text/plain": [
       "<Figure size 432x288 with 1 Axes>"
      ]
     },
     "metadata": {
      "needs_background": "light"
     },
     "output_type": "display_data"
    }
   ],
   "source": [
    "plt.imshow(tf.image.rgb_to_grayscale(x_train[4]).numpy().reshape((32,32)), cmap=\"gray\")"
   ]
  },
  {
   "cell_type": "code",
   "execution_count": 40,
   "id": "smaller-injection",
   "metadata": {},
   "outputs": [
    {
     "data": {
      "text/plain": [
       "TensorShape([50000, 32, 32, 1])"
      ]
     },
     "execution_count": 40,
     "metadata": {},
     "output_type": "execute_result"
    }
   ],
   "source": [
    "x_train_bw = tf.image.rgb_to_grayscale(x_train)\n",
    "x_train_bw.shape"
   ]
  },
  {
   "cell_type": "code",
   "execution_count": 63,
   "id": "legal-moisture",
   "metadata": {},
   "outputs": [
    {
     "data": {
      "text/plain": [
       "TensorShape([10000, 32, 32, 1])"
      ]
     },
     "execution_count": 63,
     "metadata": {},
     "output_type": "execute_result"
    }
   ],
   "source": [
    "x_test_bw = tf.image.rgb_to_grayscale(x_test)\n",
    "x_test_bw.shape"
   ]
  },
  {
   "cell_type": "code",
   "execution_count": 41,
   "id": "hourly-money",
   "metadata": {},
   "outputs": [
    {
     "data": {
      "text/plain": [
       "(50000, 32, 32, 1)"
      ]
     },
     "execution_count": 41,
     "metadata": {},
     "output_type": "execute_result"
    }
   ],
   "source": [
    "x_train_bw = x_train_bw.numpy()\n",
    "x_train_bw.shape"
   ]
  },
  {
   "cell_type": "code",
   "execution_count": 64,
   "id": "strategic-strength",
   "metadata": {},
   "outputs": [
    {
     "data": {
      "text/plain": [
       "(10000, 32, 32, 1)"
      ]
     },
     "execution_count": 64,
     "metadata": {},
     "output_type": "execute_result"
    }
   ],
   "source": [
    "x_test_bw = x_test_bw.numpy()\n",
    "x_test_bw.shape"
   ]
  },
  {
   "cell_type": "code",
   "execution_count": 42,
   "id": "august-hours",
   "metadata": {},
   "outputs": [
    {
     "data": {
      "text/plain": [
       "(50000, 32, 32)"
      ]
     },
     "execution_count": 42,
     "metadata": {},
     "output_type": "execute_result"
    }
   ],
   "source": [
    "x_train_bw = x_train_bw.squeeze()\n",
    "x_train_bw.shape"
   ]
  },
  {
   "cell_type": "code",
   "execution_count": 66,
   "id": "agricultural-blade",
   "metadata": {},
   "outputs": [
    {
     "data": {
      "text/plain": [
       "(10000, 32, 32)"
      ]
     },
     "execution_count": 66,
     "metadata": {},
     "output_type": "execute_result"
    }
   ],
   "source": [
    "x_test_bw = x_test_bw.squeeze()\n",
    "x_test_bw.shape"
   ]
  },
  {
   "cell_type": "code",
   "execution_count": 45,
   "id": "satisfactory-judge",
   "metadata": {},
   "outputs": [],
   "source": [
    "x_train_bw = x_train_bw/x_train_bw.max()"
   ]
  },
  {
   "cell_type": "code",
   "execution_count": 48,
   "id": "interracial-silence",
   "metadata": {},
   "outputs": [
    {
     "data": {
      "text/plain": [
       "1.0"
      ]
     },
     "execution_count": 48,
     "metadata": {},
     "output_type": "execute_result"
    }
   ],
   "source": [
    "x_train_bw.max() "
   ]
  },
  {
   "cell_type": "code",
   "execution_count": 67,
   "id": "collective-tamil",
   "metadata": {},
   "outputs": [
    {
     "data": {
      "text/plain": [
       "1.0"
      ]
     },
     "execution_count": 67,
     "metadata": {},
     "output_type": "execute_result"
    }
   ],
   "source": [
    "x_test_bw = x_test_bw/x_test_bw.max()\n",
    "x_test_bw.max()"
   ]
  },
  {
   "cell_type": "code",
   "execution_count": 57,
   "id": "optimum-partnership",
   "metadata": {},
   "outputs": [
    {
     "name": "stdout",
     "output_type": "stream",
     "text": [
      "Model: \"sequential_1\"\n",
      "_________________________________________________________________\n",
      "Layer (type)                 Output Shape              Param #   \n",
      "=================================================================\n",
      "flatten_2 (Flatten)          (None, 1024)              0         \n",
      "_________________________________________________________________\n",
      "dense_2 (Dense)              (None, 128)               131200    \n",
      "_________________________________________________________________\n",
      "dense_3 (Dense)              (None, 10)                1290      \n",
      "=================================================================\n",
      "Total params: 132,490\n",
      "Trainable params: 132,490\n",
      "Non-trainable params: 0\n",
      "_________________________________________________________________\n"
     ]
    }
   ],
   "source": [
    "fancy_model = tf.keras.Sequential([\n",
    "    tf.keras.layers.Flatten(input_shape = (32,32)), \n",
    "    tf.keras.layers.Dense(128, activation = 'relu'),\n",
    "    tf.keras.layers.Dense(10), \n",
    "    \n",
    "])\n",
    "fancy_model.summary()"
   ]
  },
  {
   "cell_type": "code",
   "execution_count": 60,
   "id": "planned-central",
   "metadata": {},
   "outputs": [],
   "source": [
    "fancy_model.compile(optimizer = 'adam', loss = tf.keras.losses.SparseCategoricalCrossentropy(from_logits = True), metrics = ['accuracy'])"
   ]
  },
  {
   "cell_type": "code",
   "execution_count": 61,
   "id": "magnetic-bubble",
   "metadata": {},
   "outputs": [
    {
     "name": "stdout",
     "output_type": "stream",
     "text": [
      "Epoch 1/15\n",
      "1563/1563 [==============================] - 3s 1ms/step - loss: 2.1231 - accuracy: 0.2227\n",
      "Epoch 2/15\n",
      "1563/1563 [==============================] - 2s 2ms/step - loss: 1.9487 - accuracy: 0.3029\n",
      "Epoch 3/15\n",
      "1563/1563 [==============================] - 2s 1ms/step - loss: 1.8834 - accuracy: 0.3267\n",
      "Epoch 4/15\n",
      "1563/1563 [==============================] - 2s 2ms/step - loss: 1.8454 - accuracy: 0.3426\n",
      "Epoch 5/15\n",
      "1563/1563 [==============================] - 2s 1ms/step - loss: 1.8181 - accuracy: 0.3558\n",
      "Epoch 6/15\n",
      "1563/1563 [==============================] - 2s 1ms/step - loss: 1.8055 - accuracy: 0.3568\n",
      "Epoch 7/15\n",
      "1563/1563 [==============================] - 2s 1ms/step - loss: 1.7882 - accuracy: 0.3633\n",
      "Epoch 8/15\n",
      "1563/1563 [==============================] - 2s 1ms/step - loss: 1.7716 - accuracy: 0.3705\n",
      "Epoch 9/15\n",
      "1563/1563 [==============================] - 2s 2ms/step - loss: 1.7527 - accuracy: 0.3807\n",
      "Epoch 10/15\n",
      "1563/1563 [==============================] - 2s 1ms/step - loss: 1.7515 - accuracy: 0.3803\n",
      "Epoch 11/15\n",
      "1563/1563 [==============================] - 2s 1ms/step - loss: 1.7373 - accuracy: 0.3844\n",
      "Epoch 12/15\n",
      "1563/1563 [==============================] - 2s 1ms/step - loss: 1.7279 - accuracy: 0.3881\n",
      "Epoch 13/15\n",
      "1563/1563 [==============================] - 2s 1ms/step - loss: 1.7255 - accuracy: 0.3879\n",
      "Epoch 14/15\n",
      "1563/1563 [==============================] - 3s 2ms/step - loss: 1.7193 - accuracy: 0.3926\n",
      "Epoch 15/15\n",
      "1563/1563 [==============================] - 2s 1ms/step - loss: 1.7128 - accuracy: 0.3935\n"
     ]
    },
    {
     "data": {
      "text/plain": [
       "<tensorflow.python.keras.callbacks.History at 0x7fd4bd401fd0>"
      ]
     },
     "execution_count": 61,
     "metadata": {},
     "output_type": "execute_result"
    }
   ],
   "source": [
    "fancy_model.fit(x_train_bw, y_train, epochs = 15) "
   ]
  },
  {
   "cell_type": "code",
   "execution_count": 69,
   "id": "cheap-gallery",
   "metadata": {},
   "outputs": [
    {
     "name": "stdout",
     "output_type": "stream",
     "text": [
      "313/313 [==============================] - 1s 2ms/step - loss: 1.7695 - accuracy: 0.3725\n"
     ]
    },
    {
     "data": {
      "text/plain": [
       "[1.7694849967956543, 0.3725000023841858]"
      ]
     },
     "execution_count": 69,
     "metadata": {},
     "output_type": "execute_result"
    }
   ],
   "source": [
    "fancy_model.evaluate(x_test_bw, y_test)"
   ]
  },
  {
   "cell_type": "code",
   "execution_count": 6,
   "id": "powerful-eleven",
   "metadata": {},
   "outputs": [
    {
     "name": "stdout",
     "output_type": "stream",
     "text": [
      "Model: \"sequential\"\n",
      "_________________________________________________________________\n",
      "Layer (type)                 Output Shape              Param #   \n",
      "=================================================================\n",
      "conv2d (Conv2D)              (None, 30, 30, 32)        896       \n",
      "_________________________________________________________________\n",
      "max_pooling2d (MaxPooling2D) (None, 15, 15, 32)        0         \n",
      "_________________________________________________________________\n",
      "conv2d_1 (Conv2D)            (None, 13, 13, 64)        18496     \n",
      "_________________________________________________________________\n",
      "max_pooling2d_1 (MaxPooling2 (None, 6, 6, 64)          0         \n",
      "_________________________________________________________________\n",
      "conv2d_2 (Conv2D)            (None, 4, 4, 64)          36928     \n",
      "_________________________________________________________________\n",
      "flatten (Flatten)            (None, 1024)              0         \n",
      "_________________________________________________________________\n",
      "dense (Dense)                (None, 64)                65600     \n",
      "_________________________________________________________________\n",
      "dense_1 (Dense)              (None, 10)                650       \n",
      "=================================================================\n",
      "Total params: 122,570\n",
      "Trainable params: 122,570\n",
      "Non-trainable params: 0\n",
      "_________________________________________________________________\n"
     ]
    }
   ],
   "source": [
    "cnn_model = tf.keras.Sequential([\n",
    "    tf.keras.layers.Conv2D(32, (3,3), activation = 'relu', input_shape=(32,32,3)), # coz they required positional params (and not kw arguments)\n",
    "    tf.keras.layers.MaxPooling2D(pool_size =(2,2)),\n",
    "    tf.keras.layers.Conv2D(64, (3,3), activation = 'relu'), # see whatsapp fren, 64 filters, of size 3 and activation relu \n",
    "    tf.keras.layers.MaxPooling2D((2,2)),\n",
    "    tf.keras.layers.Conv2D(64, (3,3), activation = 'relu'),\n",
    "#     tf.keras.layers.MaxPooling2D((2,2)), Just to match the architecture i am refrerring to \n",
    "    tf.keras.layers.Flatten(),\n",
    "    tf.keras.layers.Dense(64, activation='relu'), # y u confused fren? you said output size is 10 thats next layer\n",
    "    tf.keras.layers.Dense(10),\n",
    "])\n",
    "cnn_model.summary()"
   ]
  },
  {
   "cell_type": "code",
   "execution_count": 8,
   "id": "exclusive-thumbnail",
   "metadata": {},
   "outputs": [],
   "source": [
    "cnn_model.compile(optimizer = 'adam', loss= tf.keras.losses.SparseCategoricalCrossentropy(from_logits = True), metrics = ['accuracy']) "
   ]
  },
  {
   "cell_type": "code",
   "execution_count": 87,
   "id": "injured-philippines",
   "metadata": {},
   "outputs": [
    {
     "name": "stdout",
     "output_type": "stream",
     "text": [
      "Epoch 1/12\n",
      "1250/1250 [==============================] - 32s 25ms/step - loss: 2.6916 - accuracy: 0.2698 - val_loss: 1.6068 - val_accuracy: 0.4181\n",
      "Epoch 2/12\n",
      "1250/1250 [==============================] - 32s 25ms/step - loss: 1.4365 - accuracy: 0.4830 - val_loss: 1.2978 - val_accuracy: 0.5394\n",
      "Epoch 3/12\n",
      "1250/1250 [==============================] - 30s 24ms/step - loss: 1.2685 - accuracy: 0.5482 - val_loss: 1.3035 - val_accuracy: 0.5480\n",
      "Epoch 4/12\n",
      "1250/1250 [==============================] - 33s 26ms/step - loss: 1.1454 - accuracy: 0.5945 - val_loss: 1.2007 - val_accuracy: 0.5800\n",
      "Epoch 5/12\n",
      "1250/1250 [==============================] - 32s 26ms/step - loss: 1.0421 - accuracy: 0.6351 - val_loss: 1.1214 - val_accuracy: 0.6153\n",
      "Epoch 6/12\n",
      "1250/1250 [==============================] - 31s 25ms/step - loss: 0.9719 - accuracy: 0.6576 - val_loss: 1.0831 - val_accuracy: 0.6305\n",
      "Epoch 7/12\n",
      "1250/1250 [==============================] - 34s 27ms/step - loss: 0.8972 - accuracy: 0.6828 - val_loss: 1.1013 - val_accuracy: 0.6305\n",
      "Epoch 8/12\n",
      "1250/1250 [==============================] - 33s 27ms/step - loss: 0.8236 - accuracy: 0.7113 - val_loss: 1.1619 - val_accuracy: 0.6191\n",
      "Epoch 9/12\n",
      "1250/1250 [==============================] - 32s 25ms/step - loss: 0.7794 - accuracy: 0.7309 - val_loss: 1.1636 - val_accuracy: 0.6335\n",
      "Epoch 10/12\n",
      "1250/1250 [==============================] - 34s 27ms/step - loss: 0.7119 - accuracy: 0.7497 - val_loss: 1.1880 - val_accuracy: 0.6342\n",
      "Epoch 11/12\n",
      "1250/1250 [==============================] - 32s 26ms/step - loss: 0.6645 - accuracy: 0.7660 - val_loss: 1.1620 - val_accuracy: 0.6440\n",
      "Epoch 12/12\n",
      "1250/1250 [==============================] - 33s 26ms/step - loss: 0.6235 - accuracy: 0.7836 - val_loss: 1.2123 - val_accuracy: 0.6372\n"
     ]
    },
    {
     "data": {
      "text/plain": [
       "<tensorflow.python.keras.callbacks.History at 0x7fd424e1fe50>"
      ]
     },
     "execution_count": 87,
     "metadata": {},
     "output_type": "execute_result"
    }
   ],
   "source": [
    "cnn_model.fit(x_train, y_train, epochs = 12, validation_split=0.2) "
   ]
  },
  {
   "cell_type": "code",
   "execution_count": 9,
   "id": "incorporated-parallel",
   "metadata": {},
   "outputs": [
    {
     "name": "stdout",
     "output_type": "stream",
     "text": [
      "313/313 [==============================] - 3s 6ms/step - loss: 27.8475 - accuracy: 0.0996\n"
     ]
    },
    {
     "data": {
      "text/plain": [
       "[27.82270050048828, 0.10080000013113022]"
      ]
     },
     "execution_count": 9,
     "metadata": {},
     "output_type": "execute_result"
    }
   ],
   "source": [
    "cnn_model.evaluate(x_test, y_test)"
   ]
  },
  {
   "cell_type": "code",
   "execution_count": 92,
   "id": "given-gates",
   "metadata": {},
   "outputs": [],
   "source": [
    "x_test *= 255"
   ]
  },
  {
   "cell_type": "code",
   "execution_count": 122,
   "id": "graduate-eugene",
   "metadata": {},
   "outputs": [
    {
     "data": {
      "text/plain": [
       "<tensorflow.python.keras.layers.convolutional.Conv2D at 0x7fd424ea05e0>"
      ]
     },
     "execution_count": 122,
     "metadata": {},
     "output_type": "execute_result"
    }
   ],
   "source": [
    "cnn_model.layers[2]"
   ]
  },
  {
   "cell_type": "code",
   "execution_count": 116,
   "id": "monetary-virginia",
   "metadata": {},
   "outputs": [],
   "source": [
    "f, b = cnn_model.layers[2].get_weights()"
   ]
  },
  {
   "cell_type": "code",
   "execution_count": 117,
   "id": "cooperative-appliance",
   "metadata": {},
   "outputs": [],
   "source": [
    "f_min, f_max = np.amin(f), np.amax(f)\n",
    "filters = (f - f_min) / (f_max - f_min)"
   ]
  },
  {
   "cell_type": "code",
   "execution_count": 118,
   "id": "early-damages",
   "metadata": {},
   "outputs": [],
   "source": [
    "import seaborn as sns"
   ]
  },
  {
   "cell_type": "code",
   "execution_count": 149,
   "id": "mysterious-employer",
   "metadata": {},
   "outputs": [],
   "source": [
    "model2 = tf.keras.Model(inputs=cnn_model.inputs, outputs=cnn_model.layers[1].output)"
   ]
  },
  {
   "cell_type": "code",
   "execution_count": 150,
   "id": "renewable-toyota",
   "metadata": {},
   "outputs": [
    {
     "name": "stdout",
     "output_type": "stream",
     "text": [
      "Model: \"model_1\"\n",
      "_________________________________________________________________\n",
      "Layer (type)                 Output Shape              Param #   \n",
      "=================================================================\n",
      "conv2d_13_input (InputLayer) [(None, 32, 32, 3)]       0         \n",
      "_________________________________________________________________\n",
      "conv2d_13 (Conv2D)           (None, 30, 30, 32)        896       \n",
      "_________________________________________________________________\n",
      "max_pooling2d_12 (MaxPooling (None, 15, 15, 32)        0         \n",
      "=================================================================\n",
      "Total params: 896\n",
      "Trainable params: 896\n",
      "Non-trainable params: 0\n",
      "_________________________________________________________________\n"
     ]
    }
   ],
   "source": [
    "model2.summary()"
   ]
  },
  {
   "cell_type": "code",
   "execution_count": 151,
   "id": "textile-business",
   "metadata": {},
   "outputs": [],
   "source": [
    "img = x_train[450].reshape(1,32,32,3)"
   ]
  },
  {
   "cell_type": "code",
   "execution_count": 152,
   "id": "extended-conflict",
   "metadata": {},
   "outputs": [],
   "source": [
    "f = model2.predict(img)"
   ]
  },
  {
   "cell_type": "code",
   "execution_count": 162,
   "id": "caroline-pencil",
   "metadata": {},
   "outputs": [
    {
     "data": {
      "text/plain": [
       "<matplotlib.image.AxesImage at 0x7fd4266581f0>"
      ]
     },
     "execution_count": 162,
     "metadata": {},
     "output_type": "execute_result"
    },
    {
     "data": {
      "image/png": "[encoded data removed]",
      "text/plain": [
       "<Figure size 432x288 with 1 Axes>"
      ]
     },
     "metadata": {
      "needs_background": "light"
     },
     "output_type": "display_data"
    }
   ],
   "source": [
    "plt.imshow(f[0,:,:,21], cmap=\"gray\")"
   ]
  },
  {
   "cell_type": "code",
   "execution_count": 161,
   "id": "prospective-franklin",
   "metadata": {},
   "outputs": [
    {
     "data": {
      "text/plain": [
       "<matplotlib.image.AxesImage at 0x7fd4264254c0>"
      ]
     },
     "execution_count": 161,
     "metadata": {},
     "output_type": "execute_result"
    },
    {
     "data": {
      "image/png": "[encoded data removed]",
      "text/plain": [
       "<Figure size 432x288 with 1 Axes>"
      ]
     },
     "metadata": {
      "needs_background": "light"
     },
     "output_type": "display_data"
    }
   ],
   "source": [
    "plt.imshow(x_train[450]) "
   ]
  },
  {
   "cell_type": "code",
   "execution_count": 164,
   "id": "peripheral-humanitarian",
   "metadata": {},
   "outputs": [
    {
     "data": {
      "text/plain": [
       "5"
      ]
     },
     "execution_count": 164,
     "metadata": {},
     "output_type": "execute_result"
    }
   ],
   "source": [
    "cnn_model.predict(img).argmax()"
   ]
  },
  {
   "cell_type": "code",
   "execution_count": 166,
   "id": "sophisticated-tractor",
   "metadata": {},
   "outputs": [
    {
     "data": {
      "text/plain": [
       "array([5], dtype=uint8)"
      ]
     },
     "execution_count": 166,
     "metadata": {},
     "output_type": "execute_result"
    }
   ],
   "source": [
    "y_train[450]"
   ]
  },
  {
   "cell_type": "code",
   "execution_count": 167,
   "id": "reflected-program",
   "metadata": {},
   "outputs": [],
   "source": [
    "labels = ['airplane', 'automobile', 'bird', 'cat', 'deer', 'dog', 'frog', 'horse', 'ship', 'truck']\n"
   ]
  },
  {
   "cell_type": "code",
   "execution_count": 168,
   "id": "departmental-ancient",
   "metadata": {},
   "outputs": [
    {
     "data": {
      "text/plain": [
       "'dog'"
      ]
     },
     "execution_count": 168,
     "metadata": {},
     "output_type": "execute_result"
    }
   ],
   "source": [
    "labels[5]"
   ]
  },
  {
   "cell_type": "code",
   "execution_count": 29,
   "id": "common-transparency",
   "metadata": {},
   "outputs": [],
   "source": [
    "x_train = x_train/255.\n",
    "x_test= x_test/255."
   ]
  },
  {
   "cell_type": "code",
   "execution_count": 18,
   "id": "general-instrumentation",
   "metadata": {},
   "outputs": [
    {
     "name": "stdout",
     "output_type": "stream",
     "text": [
      "The tensorboard extension is already loaded. To reload it, use:\n",
      "  %reload_ext tensorboard\n"
     ]
    }
   ],
   "source": [
    "%load_ext tensorboard"
   ]
  },
  {
   "cell_type": "code",
   "execution_count": 43,
   "id": "encouraging-cuisine",
   "metadata": {},
   "outputs": [
    {
     "name": "stdout",
     "output_type": "stream",
     "text": [
      "Model: \"model_6\"\n",
      "_________________________________________________________________\n",
      "Layer (type)                 Output Shape              Param #   \n",
      "=================================================================\n",
      "input_7 (InputLayer)         [(None, 32, 32, 3)]       0         \n",
      "_________________________________________________________________\n",
      "conv2d_11 (Conv2D)           (None, 30, 30, 32)        896       \n",
      "_________________________________________________________________\n",
      "tf.nn.relu_11 (TFOpLambda)   (None, 30, 30, 32)        0         \n",
      "_________________________________________________________________\n",
      "max_pooling2d_11 (MaxPooling (None, 15, 15, 32)        0         \n",
      "_________________________________________________________________\n",
      "flatten_6 (Flatten)          (None, 7200)              0         \n",
      "_________________________________________________________________\n",
      "dense_11 (Dense)             (None, 64)                460864    \n",
      "_________________________________________________________________\n",
      "dense_12 (Dense)             (None, 10)                650       \n",
      "=================================================================\n",
      "Total params: 462,410\n",
      "Trainable params: 462,410\n",
      "Non-trainable params: 0\n",
      "_________________________________________________________________\n"
     ]
    }
   ],
   "source": [
    "cool_model.summary()"
   ]
  },
  {
   "cell_type": "code",
   "execution_count": 48,
   "id": "beginning-bunch",
   "metadata": {},
   "outputs": [],
   "source": [
    "cool_model.compile(optimizer = 'adam', loss=tf.keras.losses.SparseCategoricalCrossentropy(from_logits = True), metrics = ['accuracy'])"
   ]
  },
  {
   "cell_type": "code",
   "execution_count": 50,
   "id": "european-warrant",
   "metadata": {
    "scrolled": true
   },
   "outputs": [
    {
     "name": "stdout",
     "output_type": "stream",
     "text": [
      "Epoch 1/10\n",
      "1563/1563 [==============================] - 28s 17ms/step - loss: 1.7274 - accuracy: 0.3768 - val_loss: 1.2843 - val_accuracy: 0.5489\n",
      "Epoch 2/10\n",
      "1563/1563 [==============================] - 22s 14ms/step - loss: 1.2138 - accuracy: 0.5769 - val_loss: 1.1324 - val_accuracy: 0.6029\n",
      "Epoch 3/10\n",
      "1563/1563 [==============================] - 24s 15ms/step - loss: 1.0724 - accuracy: 0.6280 - val_loss: 1.1321 - val_accuracy: 0.6032\n",
      "Epoch 4/10\n",
      "1563/1563 [==============================] - 22s 14ms/step - loss: 0.9945 - accuracy: 0.6576 - val_loss: 1.0680 - val_accuracy: 0.6302\n",
      "Epoch 5/10\n",
      "1563/1563 [==============================] - 22s 14ms/step - loss: 0.9338 - accuracy: 0.6779 - val_loss: 1.0610 - val_accuracy: 0.6376\n",
      "Epoch 6/10\n",
      "1563/1563 [==============================] - 24s 15ms/step - loss: 0.8874 - accuracy: 0.6931 - val_loss: 1.0735 - val_accuracy: 0.6375\n",
      "Epoch 7/10\n",
      "1563/1563 [==============================] - 22s 14ms/step - loss: 0.8432 - accuracy: 0.7063 - val_loss: 1.0501 - val_accuracy: 0.6389\n",
      "Epoch 8/10\n",
      "1563/1563 [==============================] - 22s 14ms/step - loss: 0.7947 - accuracy: 0.7250 - val_loss: 1.1288 - val_accuracy: 0.6244\n",
      "Epoch 9/10\n",
      "1563/1563 [==============================] - 22s 14ms/step - loss: 0.7691 - accuracy: 0.7327 - val_loss: 1.0766 - val_accuracy: 0.6399\n",
      "Epoch 10/10\n",
      "1563/1563 [==============================] - 20s 13ms/step - loss: 0.7381 - accuracy: 0.7430 - val_loss: 1.0597 - val_accuracy: 0.6423\n"
     ]
    },
    {
     "data": {
      "text/plain": [
       "<tensorflow.python.keras.callbacks.History at 0x7fa325f3ceb0>"
      ]
     },
     "execution_count": 50,
     "metadata": {},
     "output_type": "execute_result"
    }
   ],
   "source": [
    "cool_model.fit(x_train, y_train, validation_data = (x_test, y_test), epochs = 10) # Run itrainn data fren test is for shite c an sie e whatsapp"
   ]
  },
  {
   "cell_type": "code",
   "execution_count": 51,
   "id": "loving-jamaica",
   "metadata": {},
   "outputs": [
    {
     "name": "stdout",
     "output_type": "stream",
     "text": [
      "Epoch 1/10\n",
      "1563/1563 [==============================] - 29s 19ms/step - loss: 0.7101 - accuracy: 0.7508 - val_loss: 1.0864 - val_accuracy: 0.6449\n",
      "Epoch 2/10\n",
      "1563/1563 [==============================] - 18s 12ms/step - loss: 0.6759 - accuracy: 0.7659 - val_loss: 1.1092 - val_accuracy: 0.6465\n",
      "Epoch 3/10\n",
      "1563/1563 [==============================] - 16s 10ms/step - loss: 0.6486 - accuracy: 0.7737 - val_loss: 1.1561 - val_accuracy: 0.6293\n",
      "Epoch 4/10\n",
      "1563/1563 [==============================] - 17s 11ms/step - loss: 0.6171 - accuracy: 0.7845 - val_loss: 1.1797 - val_accuracy: 0.6309\n",
      "Epoch 5/10\n",
      "1563/1563 [==============================] - 16s 10ms/step - loss: 0.5861 - accuracy: 0.7939 - val_loss: 1.1910 - val_accuracy: 0.6349\n",
      "Epoch 6/10\n",
      "1563/1563 [==============================] - 19s 12ms/step - loss: 0.5587 - accuracy: 0.8043 - val_loss: 1.2390 - val_accuracy: 0.6311\n",
      "Epoch 7/10\n",
      "1563/1563 [==============================] - 17s 11ms/step - loss: 0.5380 - accuracy: 0.8125 - val_loss: 1.2384 - val_accuracy: 0.6314\n",
      "Epoch 8/10\n",
      "1563/1563 [==============================] - 16s 10ms/step - loss: 0.5117 - accuracy: 0.8194 - val_loss: 1.3003 - val_accuracy: 0.6360\n",
      "Epoch 9/10\n",
      "1563/1563 [==============================] - 17s 11ms/step - loss: 0.4879 - accuracy: 0.8277 - val_loss: 1.3334 - val_accuracy: 0.6288\n",
      "Epoch 10/10\n",
      "1563/1563 [==============================] - 19s 12ms/step - loss: 0.4680 - accuracy: 0.8352 - val_loss: 1.3872 - val_accuracy: 0.6286\n"
     ]
    },
    {
     "data": {
      "text/plain": [
       "<tensorflow.python.keras.callbacks.History at 0x7fa31726c160>"
      ]
     },
     "execution_count": 51,
     "metadata": {},
     "output_type": "execute_result"
    }
   ],
   "source": [
    "tfcb = tf.keras.callbacks.TensorBoard(\n",
    "    log_dir='logs', \n",
    "    histogram_freq=1, \n",
    "    write_graph=True, \n",
    "    write_images=True, \n",
    "    update_freq='batch') \n",
    "cool_model.fit(x_train, y_train, \n",
    "               validation_data = (x_test, y_test),\n",
    "               epochs = 10,\n",
    "              callbacks = [tfcb])\n"
   ]
  },
  {
   "cell_type": "code",
   "execution_count": 35,
   "id": "leading-folder",
   "metadata": {},
   "outputs": [],
   "source": [
    "\n",
    "input_layer = tf.keras.Input((32,32,3)) \n",
    "\n",
    "l1 = tf.keras.layers.Conv2D(32, 3)(input_layer) \n",
    "x = tf.keras.activations.relu(l1) \n",
    "x = tf.keras.layers.MaxPooling2D((2,2))(x)\n",
    "l2 = tf.keras.layers.Conv2D(32, 3)(x) \n",
    "x = tf.keras.activations.relu(l2)\n",
    "x = tf.keras.layers.MaxPooling2D((2,2))(x)\n",
    "x = tf.keras.layers.Flatten()(x)\n",
    "x = tf.keras.layers.Dense(64, activation=\"relu\")(x)\n",
    "output = tf.keras.layers.Dense(10)(x)\n",
    "\n",
    "cnn2_model = tf.keras.Model(inputs=input_layer, outputs=output)"
   ]
  },
  {
   "cell_type": "code",
   "execution_count": 36,
   "id": "centered-theology",
   "metadata": {},
   "outputs": [
    {
     "name": "stdout",
     "output_type": "stream",
     "text": [
      "Model: \"model_4\"\n",
      "_________________________________________________________________\n",
      "Layer (type)                 Output Shape              Param #   \n",
      "=================================================================\n",
      "input_5 (InputLayer)         [(None, 32, 32, 3)]       0         \n",
      "_________________________________________________________________\n",
      "conv2d_8 (Conv2D)            (None, 30, 30, 32)        896       \n",
      "_________________________________________________________________\n",
      "tf.nn.relu_8 (TFOpLambda)    (None, 30, 30, 32)        0         \n",
      "_________________________________________________________________\n",
      "max_pooling2d_8 (MaxPooling2 (None, 15, 15, 32)        0         \n",
      "_________________________________________________________________\n",
      "conv2d_9 (Conv2D)            (None, 13, 13, 32)        9248      \n",
      "_________________________________________________________________\n",
      "tf.nn.relu_9 (TFOpLambda)    (None, 13, 13, 32)        0         \n",
      "_________________________________________________________________\n",
      "max_pooling2d_9 (MaxPooling2 (None, 6, 6, 32)          0         \n",
      "_________________________________________________________________\n",
      "flatten_4 (Flatten)          (None, 1152)              0         \n",
      "_________________________________________________________________\n",
      "dense_8 (Dense)              (None, 64)                73792     \n",
      "_________________________________________________________________\n",
      "dense_9 (Dense)              (None, 10)                650       \n",
      "=================================================================\n",
      "Total params: 84,586\n",
      "Trainable params: 84,586\n",
      "Non-trainable params: 0\n",
      "_________________________________________________________________\n"
     ]
    }
   ],
   "source": [
    "cnn2_model.summary()"
   ]
  },
  {
   "cell_type": "code",
   "execution_count": 46,
   "id": "english-passage",
   "metadata": {},
   "outputs": [],
   "source": [
    "cnn2_model.compile(optimizer=\"adam\", loss=tf.keras.losses.SparseCategoricalCrossentropy(from_logits=True), metrics=[\"accuracy\"])"
   ]
  },
  {
   "cell_type": "code",
   "execution_count": 38,
   "id": "electronic-fancy",
   "metadata": {},
   "outputs": [
    {
     "name": "stdout",
     "output_type": "stream",
     "text": [
      "Epoch 1/30\n",
      "1563/1563 [==============================] - 38s 24ms/step - loss: 1.7515 - accuracy: 0.3580 - val_loss: 1.2869 - val_accuracy: 0.5356\n",
      "INFO:tensorflow:Assets written to: saved_cnn_model/assets\n",
      "Epoch 2/30\n",
      "1563/1563 [==============================] - 33s 21ms/step - loss: 1.2363 - accuracy: 0.5621 - val_loss: 1.1275 - val_accuracy: 0.5982\n",
      "INFO:tensorflow:Assets written to: saved_cnn_model/assets\n",
      "Epoch 3/30\n",
      "1563/1563 [==============================] - 32s 21ms/step - loss: 1.0698 - accuracy: 0.6219 - val_loss: 1.0699 - val_accuracy: 0.6292\n",
      "INFO:tensorflow:Assets written to: saved_cnn_model/assets\n",
      "Epoch 4/30\n",
      "1563/1563 [==============================] - 36s 23ms/step - loss: 0.9908 - accuracy: 0.6537 - val_loss: 1.0036 - val_accuracy: 0.6516\n",
      "INFO:tensorflow:Assets written to: saved_cnn_model/assets\n",
      "Epoch 5/30\n",
      "1563/1563 [==============================] - 33s 21ms/step - loss: 0.9227 - accuracy: 0.6808 - val_loss: 0.9835 - val_accuracy: 0.6607\n",
      "INFO:tensorflow:Assets written to: saved_cnn_model/assets\n",
      "Epoch 6/30\n",
      "1563/1563 [==============================] - 35s 22ms/step - loss: 0.8672 - accuracy: 0.6950 - val_loss: 0.9573 - val_accuracy: 0.6654\n",
      "INFO:tensorflow:Assets written to: saved_cnn_model/assets\n",
      "Epoch 7/30\n",
      "1563/1563 [==============================] - 33s 21ms/step - loss: 0.8319 - accuracy: 0.7102 - val_loss: 0.9766 - val_accuracy: 0.6665\n",
      "INFO:tensorflow:Assets written to: saved_cnn_model/assets\n",
      "Epoch 8/30\n",
      "1563/1563 [==============================] - 31s 20ms/step - loss: 0.7746 - accuracy: 0.7301 - val_loss: 1.0226 - val_accuracy: 0.6507\n",
      "INFO:tensorflow:Assets written to: saved_cnn_model/assets\n"
     ]
    },
    {
     "data": {
      "text/plain": [
       "<tensorflow.python.keras.callbacks.History at 0x7fa34a7e05b0>"
      ]
     },
     "execution_count": 38,
     "metadata": {},
     "output_type": "execute_result"
    }
   ],
   "source": [
    "tfcb = tf.keras.callbacks.TensorBoard(\n",
    "    log_dir='logs', histogram_freq=1, write_graph=True,\n",
    "    write_images=True, update_freq='batch', profile_batch=2,\n",
    "    embeddings_freq=0, embeddings_metadata=None\n",
    ")\n",
    "estop = tf.keras.callbacks.EarlyStopping(monitor=\"val_accuracy\", \n",
    "                                         patience=1, \n",
    "                                         restore_best_weights=True)\n",
    "\n",
    "checkpoint = tf.keras.callbacks.ModelCheckpoint(\"saved_cnn_model\")\n",
    "cb = [tfcb,estop,checkpoint]\n",
    "\n",
    "cnn2_model.fit(x_train, y_train, validation_data=(x_test, y_test), epochs = 30, callbacks=cb)"
   ]
  },
  {
   "cell_type": "code",
   "execution_count": 39,
   "id": "eastern-group",
   "metadata": {},
   "outputs": [
    {
     "name": "stdout",
     "output_type": "stream",
     "text": [
      "313/313 [==============================] - 2s 5ms/step - loss: 0.9766 - accuracy: 0.6665\n"
     ]
    },
    {
     "data": {
      "text/plain": [
       "[0.9766440391540527, 0.6664999723434448]"
      ]
     },
     "execution_count": 39,
     "metadata": {},
     "output_type": "execute_result"
    }
   ],
   "source": [
    "cnn2_model.evaluate(x_test, y_test)"
   ]
  }
 ],
 "metadata": {
  "kernelspec": {
   "display_name": "Python 3",
   "language": "python",
   "name": "python3"
  },
  "language_info": {
   "codemirror_mode": {
    "name": "ipython",
    "version": 3
   },
   "file_extension": ".py",
   "mimetype": "text/x-python",
   "name": "python",
   "nbconvert_exporter": "python",
   "pygments_lexer": "ipython3",
   "version": "3.8.2"
  }
 },
 "nbformat": 4,
 "nbformat_minor": 5
}
